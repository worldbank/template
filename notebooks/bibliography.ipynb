{
 "cells": [
  {
   "attachments": {},
   "cell_type": "markdown",
   "id": "90700fdc-fcc7-4e54-8c9e-449879d8c66d",
   "metadata": {
    "tags": []
   },
   "source": [
    "(bibliography)=\n",
    "\n",
    "# Including Bibliography"
   ]
  },
  {
   "attachments": {},
   "cell_type": "markdown",
   "id": "14e89727",
   "metadata": {},
   "source": [
    "Including a bibliography is of utmost importance in any academic or research work. A bibliography serves as a comprehensive list of all the sources consulted and referenced during the creation of a paper, essay, or any scholarly project. It not only adds credibility to the work but also demonstrates the depth of research conducted by the author. By providing a bibliography, the author acknowledges the contributions of other scholars and researchers, thereby showing respect for intellectual property and avoiding plagiarism. \n",
    "\n",
    "Furthermore, a bibliography allows readers to delve deeper into the subject matter, explore related sources, and verify the accuracy and reliability of the information presented. In essence, the inclusion of a well-constructed bibliography is an essential aspect of scholarly writing that promotes transparency, authenticity, and the advancement of knowledge."
   ]
  },
  {
   "attachments": {},
   "cell_type": "markdown",
   "id": "b4c0f3e8-7756-41bb-aa21-cc2eee5ff67f",
   "metadata": {},
   "source": [
    "## Usage\n",
    "\n",
    "```{seealso}\n",
    "[Jupyter Book: Citations and bibliographies](https://jupyterbook.org/en/stable/content/citations.html)\n",
    "```\n",
    "\n",
    "The <span style=\"color:#3EACAD\">template</span> includes [`docs/bibliography.bib`](docs/bibliography.bib) as example, containing an entry to the World Bank flagship publication [World Development Report 2021](https://www.worldbank.org/en/publication/wdr2021) in [BibTeX Format](http://www.bibtex.org/Format). \n",
    "\n",
    "To include a **citation**, we use the syntax as shown below.\n",
    " \n",
    "````md\n",
    "{cite}`WorldBank2021WorldDevelopmentReport`\n",
    "````\n",
    "\n",
    "Additionally, we can use different citation styles.\n",
    "\n",
    "- **{cite:t}**: {cite:t}`WorldBank2021WorldDevelopmentReport`\n",
    "\n",
    "- **{cite:p}**: {cite:p}`WorldBank2021WorldDevelopmentReport`\n",
    "\n",
    "\n",
    "```{seealso}\n",
    "For a more complete list of in-line citation styles, check out the [sphinxcontrib-bibtex](https://sphinxcontrib-bibtex.readthedocs.io/en/latest/usage.html#roles-and-directives).\n",
    "```\n",
    "\n",
    "To include the **bibliography**, we use the syntax as shown below. Note that this will include all citations throughout the book. \n",
    "\n",
    "````md\n",
    "```{bibliography}\n",
    "```\n",
    "````\n",
    "\n",
    "```{bibliography}\n",
    "```\n",
    "\n",
    "To include only the **local bibliography**, we use hte syntax as shown below. \n",
    "\n",
    "````md\n",
    "```{bibliography}\n",
    ":filter: docname in docnames\n",
    "```\n",
    "````\n",
    "\n",
    "```{bibliography}\n",
    ":filter: docname in docnames\n",
    "```\n"
   ]
  },
  {
   "attachments": {},
   "cell_type": "markdown",
   "id": "d0066241",
   "metadata": {},
   "source": [
    "## Bibliography Styles\n",
    "\n",
    "\n",
    "### `alpha`\n",
    "\n",
    "````md\n",
    "```{bibliography}\n",
    ":style: alpha\n",
    "```\n",
    "````\n",
    "\n",
    "```{bibliography}\n",
    ":style: alpha\n",
    "```\n",
    "\n",
    "### `plain`\n",
    "\n",
    "````md\n",
    "```{bibliography}\n",
    ":style: plain\n",
    "```\n",
    "````\n",
    "\n",
    "```{bibliography}\n",
    ":style: plain\n",
    "```\n",
    "\n",
    "### `unsrt`\n",
    "\n",
    "````md\n",
    "```{bibliography}\n",
    ":style: unsrt\n",
    "```\n",
    "````\n",
    "\n",
    "```{bibliography}\n",
    ":style: unsrt\n",
    "```\n",
    "\n",
    "### `unsrtalpha`\n",
    "\n",
    "````md\n",
    "```{bibliography}\n",
    ":style: unsrtalpha\n",
    "```\n",
    "````\n",
    "\n",
    "```{bibliography}\n",
    ":style: unsrtalpha\n",
    "```\n"
   ]
  },
  {
   "attachments": {},
   "cell_type": "markdown",
   "id": "b0e84fdb",
   "metadata": {},
   "source": []
  }
 ],
 "metadata": {
  "kernelspec": {
   "display_name": "Python 3 (ipykernel)",
   "language": "python",
   "name": "python3"
  },
  "language_info": {
   "codemirror_mode": {
    "name": "ipython",
    "version": 3
   },
   "file_extension": ".py",
   "mimetype": "text/x-python",
   "name": "python",
   "nbconvert_exporter": "python",
   "pygments_lexer": "ipython3",
   "version": "3.9.12"
  },
  "vscode": {
   "interpreter": {
    "hash": "b6702b69e93007336b96338c5a331192f07cedff01d36d4dcfa0f842adb718ad"
   }
  }
 },
 "nbformat": 4,
 "nbformat_minor": 5
}
